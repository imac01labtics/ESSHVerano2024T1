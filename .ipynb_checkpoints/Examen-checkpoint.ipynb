{
 "cells": [
  {
   "cell_type": "code",
   "execution_count": 1,
   "id": "d1fb3742-0215-4cfe-b3cf-6696693c914d",
   "metadata": {},
   "outputs": [],
   "source": [
    "# 7 \n",
    "# 8 Discretos\n",
    "# ojiva 0 a 100 FrAc | histograma fr\n",
    "# 12 sumar todos dividir entre 6 clases (rango esa mmda)| fr histograma, obviamente primero fa\n",
    "# 15 barras o pastel, solo una | opinion"
   ]
  },
  {
   "cell_type": "code",
   "execution_count": 2,
   "id": "9d7d65cb-cf75-4f35-b356-358ad4db9663",
   "metadata": {},
   "outputs": [
    {
     "name": "stdout",
     "output_type": "stream",
     "text": [
      "Setup terminado\n"
     ]
    }
   ],
   "source": [
    "import CodeBase.Datos_Fa_Fr_FrAc as simpleData \n",
    "import CodeBase.DatosDiscretosYCualitativos as dtDisc \n",
    "import CodeBase.DatosContinuos as dtCont\n",
    "import CodeBase.GenerarGraficas as graf \n",
    "import CodeBase.CrearTabla as tb"
   ]
  },
  {
   "cell_type": "markdown",
   "id": "9398b813-be91-4eea-93f6-64e02b4deb05",
   "metadata": {},
   "source": [
    "## Ejercicio 7\n",
    "*Deporte.* Se entrevistó a 30 personas para que indicaran cuál es su equipo de futbol preferido. Los resultados fueron los siguientes:  \n",
    "**a.** Construye la distribución de frecuencias correspondiente.  \n",
    "**b.** Construye un diagrama de barras y uno circular.  "
   ]
  },
  {
   "cell_type": "code",
   "execution_count": 11,
   "id": "ee6ab077-8557-4b50-b97a-fb1fbfd3503f",
   "metadata": {},
   "outputs": [
    {
     "data": {
      "text/html": [
       "<center><table><tr><th style='border: 1px #ccc solid; text-align: center;'>Clases</th><th style='border: 1px #ccc solid; text-align: center;'>Fa</th><th style='border: 1px #ccc solid; text-align: center;'>Fr</th><th style='border: 1px #ccc solid; text-align: center;'>Fr Acum</th></tr><tr><td style='border: 1px #ccc solid; text-align: center;'>necaxa</td><td style='border: 1px #ccc solid; text-align: center;'>2</td><td style='border: 1px #ccc solid; text-align: center;'>6.667%</td><td style='border: 1px #ccc solid; text-align: center;'>6.667%</td></tr><tr><td style='border: 1px #ccc solid; text-align: center;'>santos</td><td style='border: 1px #ccc solid; text-align: center;'>3</td><td style='border: 1px #ccc solid; text-align: center;'>10.0%</td><td style='border: 1px #ccc solid; text-align: center;'>16.667%</td></tr><tr><td style='border: 1px #ccc solid; text-align: center;'>toluca</td><td style='border: 1px #ccc solid; text-align: center;'>4</td><td style='border: 1px #ccc solid; text-align: center;'>13.333%</td><td style='border: 1px #ccc solid; text-align: center;'>30.0%</td></tr><tr><td style='border: 1px #ccc solid; text-align: center;'>chivas</td><td style='border: 1px #ccc solid; text-align: center;'>5</td><td style='border: 1px #ccc solid; text-align: center;'>16.667%</td><td style='border: 1px #ccc solid; text-align: center;'>46.667%</td></tr><tr><td style='border: 1px #ccc solid; text-align: center;'>américa</td><td style='border: 1px #ccc solid; text-align: center;'>8</td><td style='border: 1px #ccc solid; text-align: center;'>26.667%</td><td style='border: 1px #ccc solid; text-align: center;'>73.333%</td></tr><tr><td style='border: 1px #ccc solid; text-align: center;'>pumas</td><td style='border: 1px #ccc solid; text-align: center;'>8</td><td style='border: 1px #ccc solid; text-align: center;'>26.667%</td><td style='border: 1px #ccc solid; text-align: center;'>100.0%</td></tr></table></center>"
      ],
      "text/plain": [
       "<IPython.core.display.HTML object>"
      ]
     },
     "metadata": {},
     "output_type": "display_data"
    }
   ],
   "source": [
    "datosEj7 = [\n",
    "    'Pumas','América','Chivas','Pumas','Chivas','Chivas','América','Toluca','Toluca','Pumas',\n",
    "    'Santos','Necaxa','América','América','América','Pumas','Santos','Pumas','Pumas','Pumas',\n",
    "    'América','Chivas','América','Pumas','Necaxa','Toluca','Chivas','América','Toluca','Santos'\n",
    "]\n",
    "\n",
    "# Datos\n",
    "clases, fa, faAc, fr, frAc = dtDisc.generateQualitativeData(datosEj7)\n",
    "frStr, frAcStr = tb.datosStrPorcentaje(fr, frAc)\n",
    "\n",
    "# Tabla\n",
    "encabezados = [\"Clases\", \"Fa\", \"Fr\", \"Fr Acum\"]\n",
    "contenido = [clases, fa, frStr, frAcStr]\n",
    "tb.printHTMLTable(encabezados, contenido)\n",
    "\n",
    "# Gráficas\n",
    "#graf.createBarDiagram(clases, fa)\n",
    "#graf.createPieChart(clases, fa, fr)"
   ]
  },
  {
   "cell_type": "markdown",
   "id": "5150a106-69cf-41dd-828c-392eb7395e81",
   "metadata": {},
   "source": [
    "## Ejercicio 8. Tecnología"
   ]
  },
  {
   "cell_type": "code",
   "execution_count": null,
   "id": "794ee078-f1b4-45e5-a812-2ea2a732092e",
   "metadata": {},
   "outputs": [],
   "source": []
  },
  {
   "cell_type": "markdown",
   "id": "4f550e3b-93c0-425e-a138-8c30d5a57ec5",
   "metadata": {},
   "source": [
    "## Ejercicio 12. Nutrición."
   ]
  },
  {
   "cell_type": "code",
   "execution_count": null,
   "id": "daab167b-b9b9-4478-8a7d-1b4de777c29b",
   "metadata": {},
   "outputs": [],
   "source": []
  },
  {
   "cell_type": "markdown",
   "id": "31d75a0c-3cbe-4454-bb92-4c2b05214ef8",
   "metadata": {},
   "source": [
    "## Ejercicio 15. Sociedad"
   ]
  },
  {
   "cell_type": "code",
   "execution_count": null,
   "id": "7fb89311-ed0f-4eb6-844f-c3ac05987d68",
   "metadata": {},
   "outputs": [],
   "source": []
  }
 ],
 "metadata": {
  "kernelspec": {
   "display_name": "Python 3 (ipykernel)",
   "language": "python",
   "name": "python3"
  },
  "language_info": {
   "codemirror_mode": {
    "name": "ipython",
    "version": 3
   },
   "file_extension": ".py",
   "mimetype": "text/x-python",
   "name": "python",
   "nbconvert_exporter": "python",
   "pygments_lexer": "ipython3",
   "version": "3.11.4"
  }
 },
 "nbformat": 4,
 "nbformat_minor": 5
}
