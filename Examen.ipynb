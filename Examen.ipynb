{
 "cells": [
  {
   "cell_type": "code",
   "execution_count": 2,
   "id": "d1fb3742-0215-4cfe-b3cf-6696693c914d",
   "metadata": {},
   "outputs": [],
   "source": [
    "# 7 \n",
    "# 8 Discretos\n",
    "# ojiva 0 a 100 FrAc | histograma fr\n",
    "# 12 sumar todos dividir entre 6 clases (rango esa mmda)| fr histograma, obviamente primero fa\n",
    "# 15 barras o pastel, solo una | opinion"
   ]
  },
  {
   "cell_type": "markdown",
   "id": "9398b813-be91-4eea-93f6-64e02b4deb05",
   "metadata": {},
   "source": [
    "## Ejercicio 7. Deporte"
   ]
  },
  {
   "cell_type": "code",
   "execution_count": 3,
   "id": "ee6ab077-8557-4b50-b97a-fb1fbfd3503f",
   "metadata": {},
   "outputs": [],
   "source": [
    "#####"
   ]
  },
  {
   "cell_type": "markdown",
   "id": "5150a106-69cf-41dd-828c-392eb7395e81",
   "metadata": {},
   "source": [
    "## Ejercicio 8. Tecnología"
   ]
  },
  {
   "cell_type": "code",
   "execution_count": null,
   "id": "794ee078-f1b4-45e5-a812-2ea2a732092e",
   "metadata": {},
   "outputs": [],
   "source": []
  },
  {
   "cell_type": "markdown",
   "id": "4f550e3b-93c0-425e-a138-8c30d5a57ec5",
   "metadata": {},
   "source": [
    "## Ejercicio 12. Nutrición."
   ]
  },
  {
   "cell_type": "code",
   "execution_count": null,
   "id": "daab167b-b9b9-4478-8a7d-1b4de777c29b",
   "metadata": {},
   "outputs": [],
   "source": []
  },
  {
   "cell_type": "markdown",
   "id": "31d75a0c-3cbe-4454-bb92-4c2b05214ef8",
   "metadata": {},
   "source": [
    "## Ejercicio 15. Sociedad"
   ]
  },
  {
   "cell_type": "code",
   "execution_count": null,
   "id": "7fb89311-ed0f-4eb6-844f-c3ac05987d68",
   "metadata": {},
   "outputs": [],
   "source": []
  }
 ],
 "metadata": {
  "kernelspec": {
   "display_name": "Python 3 (ipykernel)",
   "language": "python",
   "name": "python3"
  },
  "language_info": {
   "codemirror_mode": {
    "name": "ipython",
    "version": 3
   },
   "file_extension": ".py",
   "mimetype": "text/x-python",
   "name": "python",
   "nbconvert_exporter": "python",
   "pygments_lexer": "ipython3",
   "version": "3.11.4"
  }
 },
 "nbformat": 4,
 "nbformat_minor": 5
}
